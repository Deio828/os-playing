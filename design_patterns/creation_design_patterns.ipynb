{
 "cells": [
  {
   "cell_type": "markdown",
   "metadata": {},
   "source": [
    "## Factory Design Pattern"
   ]
  },
  {
   "cell_type": "markdown",
   "metadata": {},
   "source": [
    "Create the subclass object at the runtime.\n",
    "\n",
    "**Use When:** \n",
    "- You need to choose between several subclasses at runtime.\n",
    "- Object creation logic might change in the future.\n",
    "- You want to hide instantiation logic from client code.\n",
    "\n",
    "**Real-life example:**\n",
    "- in GUI framework when you have `Button` class and there is `WindowsButton` and `MacButton` that inherit from it and the one will be created based on the OS\n",
    "\n",
    "**Avoid if:**\n",
    "- There is no need for the hierarchy of classes"
   ]
  },
  {
   "cell_type": "code",
   "execution_count": 3,
   "metadata": {},
   "outputs": [
    {
     "name": "stdout",
     "output_type": "stream",
     "text": [
      "Beef Burger\n"
     ]
    }
   ],
   "source": [
    "class Burger:\n",
    "    def __init__(self, name):\n",
    "        self.name = name\n",
    "\n",
    "class BeefBurger(Burger):\n",
    "    def __init__(self):\n",
    "        super().__init__(\"Beef Burger\")\n",
    "\n",
    "class ChickenBurger(Burger):\n",
    "    def __init__(self):\n",
    "        super().__init__(\"Chicken Burger\")\n",
    "\n",
    "class BurgerFactory:\n",
    "    @staticmethod\n",
    "    def create_burger(burger_type):\n",
    "        if burger_type == \"beef\":\n",
    "            return BeefBurger()\n",
    "        elif burger_type == \"chicken\":\n",
    "            return ChickenBurger()\n",
    "        else:\n",
    "            raise ValueError(\"Unknown burger type\")\n",
    "\n",
    "# Usage\n",
    "burger = BurgerFactory.create_burger(\"beef\")\n",
    "print(burger.name)  # Output: Beef Burger\n"
   ]
  },
  {
   "cell_type": "markdown",
   "metadata": {},
   "source": [
    "## Abstract Factory"
   ]
  },
  {
   "cell_type": "markdown",
   "metadata": {},
   "source": [
    "When you want to create families of related class (the relation between chairs and furneture)\n",
    "\n",
    "**Use When:** \n",
    "- You want to create families or related objects.\n",
    "- When you want to ensure consistency between related products.\n",
    "- You need platform independence\n",
    "\n",
    "**Real-life example:**\n",
    "- in GUI framework if you need to create a toolkit that creates `button` and `checkbox` for Mac, Windows, or Web\n",
    "\n",
    "**Avoid if:**\n",
    "- You don't need to create dependencies between the objects"
   ]
  },
  {
   "cell_type": "code",
   "execution_count": 4,
   "metadata": {},
   "outputs": [
    {
     "name": "stdout",
     "output_type": "stream",
     "text": [
      "Vegan Burger + Green Smoothie\n"
     ]
    }
   ],
   "source": [
    "class Burger:\n",
    "    def get_name(self): pass\n",
    "\n",
    "class Drink:\n",
    "    def get_name(self): pass\n",
    "\n",
    "class ClassicBurger(Burger):\n",
    "    def get_name(self): return \"Classic Burger\"\n",
    "\n",
    "class ClassicDrink(Drink):\n",
    "    def get_name(self): return \"Cola\"\n",
    "\n",
    "class VeganBurger(Burger):\n",
    "    def get_name(self): return \"Vegan Burger\"\n",
    "\n",
    "class VeganDrink(Drink):\n",
    "    def get_name(self): return \"Green Smoothie\"\n",
    "\n",
    "class MealFactory:\n",
    "    def create_burger(self): pass\n",
    "    def create_drink(self): pass\n",
    "\n",
    "class ClassicMealFactory(MealFactory):\n",
    "    def create_burger(self): return ClassicBurger()\n",
    "    def create_drink(self): return ClassicDrink()\n",
    "\n",
    "class VeganMealFactory(MealFactory):\n",
    "    def create_burger(self): return VeganBurger()\n",
    "    def create_drink(self): return VeganDrink()\n",
    "\n",
    "# Usage\n",
    "factory = VeganMealFactory()\n",
    "burger = factory.create_burger()\n",
    "drink = factory.create_drink()\n",
    "print(burger.get_name(), \"+\", drink.get_name())  # Output: Vegan Burger + Green Smoothie\n"
   ]
  },
  {
   "cell_type": "markdown",
   "metadata": {},
   "source": [
    "## Builder"
   ]
  },
  {
   "cell_type": "markdown",
   "metadata": {},
   "source": [
    "You use it when you want to have different objects of the same class but with different configurations.\n",
    "\n",
    "**Use When:** \n",
    "- You’re building complex objects step-by-step with many optional parts.\n",
    "- When You want to create objects with different attributes from the same object.\n",
    "- When you want to reuse the building process for the same object\n",
    "\n",
    "**Real-life example:**\n",
    "- Building a document (add title, table, image, ..)\n",
    "- Create a session with different types of Databases\n",
    "\n",
    "**Avoid if:**\n",
    "- The object is simple (2-3 attributes)"
   ]
  },
  {
   "cell_type": "code",
   "execution_count": 5,
   "metadata": {},
   "outputs": [
    {
     "name": "stdout",
     "output_type": "stream",
     "text": [
      "Burger with: bun, patty, cheese\n"
     ]
    }
   ],
   "source": [
    "class Burger:\n",
    "    def __init__(self):\n",
    "        self.parts = []\n",
    "\n",
    "    def add(self, item):\n",
    "        self.parts.append(item)\n",
    "\n",
    "    def describe(self):\n",
    "        return \"Burger with: \" + \", \".join(self.parts)\n",
    "\n",
    "class BurgerBuilder:\n",
    "    def __init__(self):\n",
    "        self.burger = Burger()\n",
    "\n",
    "    def add_bun(self): self.burger.add(\"bun\"); return self\n",
    "    def add_patty(self): self.burger.add(\"patty\"); return self\n",
    "    def add_cheese(self): self.burger.add(\"cheese\"); return self\n",
    "    def add_lettuce(self): self.burger.add(\"lettuce\"); return self\n",
    "    def build(self): return self.burger\n",
    "\n",
    "# Usage\n",
    "builder = BurgerBuilder()\n",
    "burger = builder.add_bun().add_patty().add_cheese().build()\n",
    "print(burger.describe())  # Output: Burger with: bun, patty, cheese\n"
   ]
  },
  {
   "cell_type": "markdown",
   "metadata": {},
   "source": [
    "## Prototype"
   ]
  },
  {
   "cell_type": "markdown",
   "metadata": {},
   "source": [
    "In this pattern, you simply create one object then you clone it whenever you want to create a new one, then you change the attributes. (we usually use it when the creation is heavy in computational resources).\n",
    "\n",
    "**Use When:** \n",
    "- Object creation is expensive (deep configuration, neural network, ..)\n",
    "\n",
    "**Real-life example:**\n",
    "- Cloning a configuration-heavy object (e.g., custom user settings, neural network layer).\n",
    "\n",
    "**Avoid if:**\n",
    "- Object copying is expensive or complex due to deep object graphs."
   ]
  },
  {
   "cell_type": "code",
   "execution_count": 6,
   "metadata": {},
   "outputs": [
    {
     "name": "stdout",
     "output_type": "stream",
     "text": [
      "Burger with: bun, chicken, mayo\n",
      "Burger with: bun, chicken, mayo, lettuce\n"
     ]
    }
   ],
   "source": [
    "import copy\n",
    "\n",
    "class Burger:\n",
    "    def __init__(self, ingredients):\n",
    "        self.ingredients = ingredients\n",
    "\n",
    "    def clone(self):\n",
    "        return copy.deepcopy(self)\n",
    "\n",
    "    def describe(self):\n",
    "        return \"Burger with: \" + \", \".join(self.ingredients)\n",
    "\n",
    "# Usage\n",
    "original = Burger([\"bun\", \"chicken\", \"mayo\"])\n",
    "custom = original.clone()\n",
    "custom.ingredients.append(\"lettuce\")\n",
    "\n",
    "print(original.describe())  # Burger with: bun, chicken, mayo\n",
    "print(custom.describe())    # Burger with: bun, chicken, mayo, lettuce\n"
   ]
  },
  {
   "cell_type": "markdown",
   "metadata": {},
   "source": [
    "## Singleton"
   ]
  },
  {
   "cell_type": "markdown",
   "metadata": {},
   "source": [
    "This pattern is used when you want the same instance to be shared between all objects. (This is usually used for a shared configuration, db manager, logging service). (but it creates large coupling)\n",
    "\n",
    "**Use When:** \n",
    "- You need exactly one instance of a class globally.\n",
    "- The instance is shared and reused (e.g., logging service, configuration manager, database connection).\n",
    "\n",
    "**Real-life example:**\n",
    "- Printer spooler, App Config, or Auth Manager.\n",
    "\n",
    "**Avoid if:**\n",
    "- Multiple instances are fine\n",
    "- testing/mocking becomes difficult (tight coupling)."
   ]
  },
  {
   "cell_type": "code",
   "execution_count": 7,
   "metadata": {},
   "outputs": [
    {
     "name": "stdout",
     "output_type": "stream",
     "text": [
      "Creating Burger Machine...\n",
      "True\n"
     ]
    }
   ],
   "source": [
    "class BurgerMachine:\n",
    "    _instance = None\n",
    "\n",
    "    def __new__(cls):\n",
    "        if cls._instance is None:\n",
    "            print(\"Creating Burger Machine...\")\n",
    "            cls._instance = super().__new__(cls)\n",
    "        return cls._instance\n",
    "\n",
    "    def make_burger(self):\n",
    "        return \"Generic Burger\"\n",
    "\n",
    "# Usage\n",
    "machine1 = BurgerMachine()\n",
    "machine2 = BurgerMachine()\n",
    "print(machine1 is machine2)  # Output: True\n"
   ]
  }
 ],
 "metadata": {
  "kernelspec": {
   "display_name": "base",
   "language": "python",
   "name": "python3"
  },
  "language_info": {
   "codemirror_mode": {
    "name": "ipython",
    "version": 3
   },
   "file_extension": ".py",
   "mimetype": "text/x-python",
   "name": "python",
   "nbconvert_exporter": "python",
   "pygments_lexer": "ipython3",
   "version": "3.10.8"
  }
 },
 "nbformat": 4,
 "nbformat_minor": 2
}
