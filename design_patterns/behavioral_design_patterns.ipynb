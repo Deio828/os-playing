{
 "cells": [
  {
   "cell_type": "markdown",
   "metadata": {},
   "source": [
    "## Chain of Responsibility"
   ]
  },
  {
   "cell_type": "markdown",
   "metadata": {},
   "source": [
    "In this design pattern, the process will loop over the component and the component that has the responsibility to handle the request will be excuted.\n",
    "\n",
    "**Use When:** \n",
    "- Request must go through multiple processesors \n",
    "\n",
    "**Real-life example:**\n",
    "- Support tickets\n",
    "\n",
    "**Avoid if:**\n",
    "- There is no need for the hierarchy of classes"
   ]
  },
  {
   "cell_type": "code",
   "execution_count": 1,
   "metadata": {},
   "outputs": [
    {
     "name": "stdout",
     "output_type": "stream",
     "text": [
      "Handled by DataHandler\n"
     ]
    }
   ],
   "source": [
    "class Handler:\n",
    "    def __init__(self, next_handler=None):\n",
    "        self.next = next_handler\n",
    "\n",
    "    def handle(self, request):\n",
    "        if self.next:\n",
    "            return self.next.handle(request)\n",
    "        return \"No handler available\"\n",
    "\n",
    "class AuthHandler(Handler):\n",
    "    def handle(self, request):\n",
    "        if request == \"auth\":\n",
    "            return \"Handled by AuthHandler\"\n",
    "        return super().handle(request)\n",
    "\n",
    "class DataHandler(Handler):\n",
    "    def handle(self, request):\n",
    "        if request == \"data\":\n",
    "            return \"Handled by DataHandler\"\n",
    "        return super().handle(request)\n",
    "\n",
    "# Usage\n",
    "handler_chain = AuthHandler(DataHandler())\n",
    "print(handler_chain.handle(\"data\"))  # Handled by DataHandler\n"
   ]
  },
  {
   "cell_type": "markdown",
   "metadata": {},
   "source": [
    "## Command Pattern"
   ]
  },
  {
   "cell_type": "markdown",
   "metadata": {},
   "source": [
    "In this pattern, the command, query, request, etc. is being represented as an object (something like FastAPI file handling or sqlalchemy query builder)\n",
    "\n",
    "**Use When:** \n",
    "- When you want to handle requests or queries regardless the framewrok used in the backend\n",
    "\n",
    "**Real-life example:**\n",
    "- GUI buttons triggering actions\n",
    "\n",
    "**Avoid if:**\n",
    "- The actions are just simple"
   ]
  },
  {
   "cell_type": "code",
   "execution_count": 2,
   "metadata": {},
   "outputs": [
    {
     "name": "stdout",
     "output_type": "stream",
     "text": [
      "Light turned on\n"
     ]
    }
   ],
   "source": [
    "class Command:\n",
    "    def execute(self): pass\n",
    "\n",
    "class LightOnCommand(Command):\n",
    "    def execute(self): return \"Light turned on\"\n",
    "\n",
    "class RemoteControl:\n",
    "    def __init__(self): self.command = None\n",
    "    def set_command(self, command): self.command = command\n",
    "    def press_button(self): return self.command.execute()\n",
    "\n",
    "# Usage\n",
    "remote = RemoteControl()\n",
    "remote.set_command(LightOnCommand())\n",
    "print(remote.press_button())  # Light turned on\n"
   ]
  },
  {
   "cell_type": "markdown",
   "metadata": {},
   "source": [
    "## Interpreter Pattern"
   ]
  },
  {
   "cell_type": "markdown",
   "metadata": {},
   "source": [
    "In this pattern we represent the data expected to flow within the system in an object so that we ensure that the format is correct all the time (Something similar to Tensorflow tensors and Numpy arrays)\n",
    "\n",
    "**Use When:** \n",
    "- When you want to create a custom language or a framework\n",
    "\n",
    "**Real-life example:**\n",
    "- Spreadsheet formula engine\n",
    "\n",
    "**Avoid if:**\n",
    "- The grammer is too complex"
   ]
  },
  {
   "cell_type": "code",
   "execution_count": 3,
   "metadata": {},
   "outputs": [
    {
     "name": "stdout",
     "output_type": "stream",
     "text": [
      "8\n"
     ]
    }
   ],
   "source": [
    "class Expression:\n",
    "    def interpret(self): pass\n",
    "\n",
    "class Number(Expression):\n",
    "    def __init__(self, value): self.value = value\n",
    "    def interpret(self): return self.value\n",
    "\n",
    "class Add(Expression):\n",
    "    def __init__(self, left, right): self.left = left; self.right = right\n",
    "    def interpret(self): return self.left.interpret() + self.right.interpret()\n",
    "\n",
    "# Usage\n",
    "expr = Add(Number(5), Number(3))\n",
    "print(expr.interpret())  # 8\n"
   ]
  },
  {
   "cell_type": "markdown",
   "metadata": {},
   "source": [
    "## Iterator Pattern"
   ]
  },
  {
   "cell_type": "markdown",
   "metadata": {},
   "source": [
    "We use it if there is an urge to use a custom iterator (something like maybe data loaders with yeild)\n",
    "\n",
    "**Use When:** \n",
    "- You want a uniform traversal of a container\n",
    "\n",
    "**Real-life example:**\n",
    "- Data readers\n",
    "\n",
    "**Avoid if:**\n",
    "- Built-in iterators are sufficient"
   ]
  },
  {
   "cell_type": "code",
   "execution_count": 4,
   "metadata": {},
   "outputs": [
    {
     "name": "stdout",
     "output_type": "stream",
     "text": [
      "Alice\n",
      "Bob\n",
      "Charlie\n"
     ]
    }
   ],
   "source": [
    "class NameCollection:\n",
    "    def __init__(self, names): self.names = names\n",
    "    def __iter__(self): return iter(self.names)\n",
    "\n",
    "# Usage\n",
    "for name in NameCollection([\"Alice\", \"Bob\", \"Charlie\"]):\n",
    "    print(name)\n"
   ]
  },
  {
   "cell_type": "markdown",
   "metadata": {},
   "source": [
    "## Mediator Patern"
   ]
  },
  {
   "cell_type": "markdown",
   "metadata": {},
   "source": [
    "We usually use this pattern to ease the complex communication between related objects\n",
    "\n",
    "**Use When:** \n",
    "- You want to simplify object interaction logic.\n",
    "\n",
    "**Real-life example:**\n",
    "- Chatroom between users\n",
    "\n",
    "**Avoid if:**\n",
    "- it's easier for objects to communicate without needing an extra layer"
   ]
  },
  {
   "cell_type": "code",
   "execution_count": 5,
   "metadata": {},
   "outputs": [
    {
     "name": "stdout",
     "output_type": "stream",
     "text": [
      "[Alice] says: Hello!\n"
     ]
    }
   ],
   "source": [
    "class ChatRoom:\n",
    "    def show_message(self, sender, message):\n",
    "        return f\"[{sender}] says: {message}\"\n",
    "\n",
    "class User:\n",
    "    def __init__(self, name, chatroom): self.name = name; self.chatroom = chatroom\n",
    "    def send(self, message):\n",
    "        print(self.chatroom.show_message(self.name, message))\n",
    "\n",
    "# Usage\n",
    "chatroom = ChatRoom()\n",
    "user = User(\"Alice\", chatroom)\n",
    "user.send(\"Hello!\")  # [Alice] says: Hello!\n"
   ]
  },
  {
   "cell_type": "markdown",
   "metadata": {},
   "source": [
    "## Memento Patern"
   ]
  },
  {
   "cell_type": "markdown",
   "metadata": {},
   "source": [
    "We usually use it when we want to save and restore an object's internal state\n",
    "\n",
    "**Use When:** \n",
    "- You need to undo or rollback a functionality\n",
    "\n",
    "**Real-life example:**\n",
    "- Text editors and version controlling\n",
    "\n",
    "**Avoid if:**\n",
    "- The changes are small and easily reversible"
   ]
  },
  {
   "cell_type": "code",
   "execution_count": 6,
   "metadata": {},
   "outputs": [
    {
     "name": "stdout",
     "output_type": "stream",
     "text": [
      "Hello \n"
     ]
    }
   ],
   "source": [
    "class Editor:\n",
    "    def __init__(self): self.content = \"\"\n",
    "    def write(self, text): self.content += text\n",
    "    def save(self): return self.content\n",
    "    def restore(self, memento): self.content = memento\n",
    "\n",
    "# Usage\n",
    "editor = Editor()\n",
    "editor.write(\"Hello \")\n",
    "saved = editor.save()\n",
    "editor.write(\"World\")\n",
    "editor.restore(saved)\n",
    "print(editor.content)  # Hello \n"
   ]
  },
  {
   "cell_type": "markdown",
   "metadata": {},
   "source": [
    "## Observer Pattern"
   ]
  },
  {
   "cell_type": "markdown",
   "metadata": {},
   "source": [
    "We usually use this pattern when there are multiple parts of the system are depending on a single service (object) and need to change according to any modifications in it.\n",
    "\n",
    "**Use When:** \n",
    "- Multiple parts of the system depend on one part\n",
    "\n",
    "**Real-life example:**\n",
    "- Data binding in GUI\n",
    "\n",
    "**Avoid if:**\n",
    "- You want to avoid tight coupling between subject and observers"
   ]
  },
  {
   "cell_type": "code",
   "execution_count": 7,
   "metadata": {},
   "outputs": [
    {
     "name": "stdout",
     "output_type": "stream",
     "text": [
      "Received: New event\n"
     ]
    }
   ],
   "source": [
    "class Subject:\n",
    "    def __init__(self): self.observers = []\n",
    "    def subscribe(self, observer): self.observers.append(observer)\n",
    "    def notify(self, msg):\n",
    "        for obs in self.observers:\n",
    "            obs.update(msg)\n",
    "\n",
    "class Observer:\n",
    "    def update(self, msg): print(f\"Received: {msg}\")\n",
    "\n",
    "# Usage\n",
    "subject = Subject()\n",
    "observer = Observer()\n",
    "subject.subscribe(observer)\n",
    "subject.notify(\"New event\")  # Received: New event\n"
   ]
  },
  {
   "cell_type": "markdown",
   "metadata": {},
   "source": [
    "## State Pattern"
   ]
  },
  {
   "cell_type": "markdown",
   "metadata": {},
   "source": [
    "When you have a stateful system where the output will change based on that state \n",
    "\n",
    "**Use When:** \n",
    "- Object behavior changes by the state\n",
    "\n",
    "**Real-life example:**\n",
    "- TCP connection (Open, Closed, Listen)\n",
    "\n",
    "**Avoid if:**\n",
    "- if the system is not stateful"
   ]
  },
  {
   "cell_type": "code",
   "execution_count": 8,
   "metadata": {},
   "outputs": [
    {
     "name": "stdout",
     "output_type": "stream",
     "text": [
      "User is offline\n",
      "User is online\n"
     ]
    }
   ],
   "source": [
    "class State:\n",
    "    def handle(self): pass\n",
    "\n",
    "class OnlineState(State):\n",
    "    def handle(self): return \"User is online\"\n",
    "\n",
    "class OfflineState(State):\n",
    "    def handle(self): return \"User is offline\"\n",
    "\n",
    "class User:\n",
    "    def __init__(self): self.state = OfflineState()\n",
    "    def set_state(self, state): self.state = state\n",
    "    def check_status(self): return self.state.handle()\n",
    "\n",
    "# Usage\n",
    "user = User()\n",
    "print(user.check_status())  # User is offline\n",
    "user.set_state(OnlineState())\n",
    "print(user.check_status())  # User is online\n"
   ]
  },
  {
   "cell_type": "markdown",
   "metadata": {},
   "source": [
    "## Strategy Pattern"
   ]
  },
  {
   "cell_type": "markdown",
   "metadata": {},
   "source": [
    "When there are multiple algorithms or AI models for example and you want to implement a handler that accepts any of them and operates flawlessly (Like what we have implemented in people tracker by choosing between ByteTrack and DeepSort)\n",
    "\n",
    "**Use When:** \n",
    "- You want to switch behavior during runtime\n",
    "\n",
    "**Real-life example:**\n",
    "- Different sorting or routing algorithms\n",
    "\n",
    "**Avoid if:**\n",
    "- logic never changes"
   ]
  },
  {
   "cell_type": "code",
   "execution_count": 9,
   "metadata": {},
   "outputs": [
    {
     "name": "stdout",
     "output_type": "stream",
     "text": [
      "[1, 2, 3]\n"
     ]
    }
   ],
   "source": [
    "class SortStrategy:\n",
    "    def sort(self, data): pass\n",
    "\n",
    "class BubbleSort(SortStrategy):\n",
    "    def sort(self, data): return sorted(data)  # Dummy for simplicity\n",
    "\n",
    "class QuickSort(SortStrategy):\n",
    "    def sort(self, data): return sorted(data)  # Same for simplicity\n",
    "\n",
    "class DataSorter:\n",
    "    def __init__(self, strategy): self.strategy = strategy\n",
    "    def sort(self, data): return self.strategy.sort(data)\n",
    "\n",
    "# Usage\n",
    "sorter = DataSorter(QuickSort())\n",
    "print(sorter.sort([3, 1, 2]))  # [1, 2, 3]\n"
   ]
  },
  {
   "cell_type": "markdown",
   "metadata": {},
   "source": [
    "## Template Pattern"
   ]
  },
  {
   "cell_type": "markdown",
   "metadata": {},
   "source": [
    "It's very commonly used, when you have a process template for example (something like a pipeline) and you want to implement multiple processes with the same interface (methods, arguments and returns) something like `CSVDataPipeline` and `XMLDataPipeline`\n",
    "\n",
    "**Use When:** \n",
    "- You want to inforce a step sequence\n",
    "\n",
    "**Real-life example:**\n",
    "- ETL pipelines\n",
    "\n",
    "**Avoid if:**\n",
    "- The sequence changes too much and needs so much customization"
   ]
  },
  {
   "cell_type": "code",
   "execution_count": 10,
   "metadata": {},
   "outputs": [
    {
     "name": "stdout",
     "output_type": "stream",
     "text": [
      "Extract CSV\n",
      "Transform data\n",
      "Load into DB\n"
     ]
    }
   ],
   "source": [
    "class DataPipeline:\n",
    "    def process(self):\n",
    "        self.extract()\n",
    "        self.transform()\n",
    "        self.load()\n",
    "\n",
    "    def extract(self): pass\n",
    "    def transform(self): pass\n",
    "    def load(self): pass\n",
    "\n",
    "class CSVDataPipeline(DataPipeline):\n",
    "    def extract(self): print(\"Extract CSV\")\n",
    "    def transform(self): print(\"Transform data\")\n",
    "    def load(self): print(\"Load into DB\")\n",
    "\n",
    "# Usage\n",
    "CSVDataPipeline().process()\n"
   ]
  },
  {
   "cell_type": "markdown",
   "metadata": {},
   "source": [
    "## Visitor Pattern"
   ]
  },
  {
   "cell_type": "markdown",
   "metadata": {},
   "source": [
    "In this common pattern, we usually send an operator to the object to do a specific task (something like sending a classifier which can be a Decision Tree or an SVM).\n",
    "\n",
    "**Use When:** \n",
    "- You need to add operations to hierarchy without modifying it\n",
    "\n",
    "**Real-life example:**\n",
    "- File explorer operations (rename, size calculator)\n",
    "\n",
    "**Avoid if:**\n",
    "- object structure changes frequently — refactoring becomes painful."
   ]
  },
  {
   "cell_type": "code",
   "execution_count": 11,
   "metadata": {},
   "outputs": [
    {
     "name": "stdout",
     "output_type": "stream",
     "text": [
      "Size: 10MB\n"
     ]
    }
   ],
   "source": [
    "class File:\n",
    "    def accept(self, visitor): return visitor.visit_file(self)\n",
    "\n",
    "class Folder:\n",
    "    def accept(self, visitor): return visitor.visit_folder(self)\n",
    "\n",
    "class SizeCalculator:\n",
    "    def visit_file(self, file): return \"Size: 1MB\"\n",
    "    def visit_folder(self, folder): return \"Size: 10MB\"\n",
    "\n",
    "# Usage\n",
    "folder = Folder()\n",
    "calc = SizeCalculator()\n",
    "print(folder.accept(calc))  # Size: 10MB\n"
   ]
  }
 ],
 "metadata": {
  "kernelspec": {
   "display_name": "base",
   "language": "python",
   "name": "python3"
  },
  "language_info": {
   "codemirror_mode": {
    "name": "ipython",
    "version": 3
   },
   "file_extension": ".py",
   "mimetype": "text/x-python",
   "name": "python",
   "nbconvert_exporter": "python",
   "pygments_lexer": "ipython3",
   "version": "3.10.8"
  }
 },
 "nbformat": 4,
 "nbformat_minor": 2
}
