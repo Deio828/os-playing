{
 "cells": [
  {
   "cell_type": "markdown",
   "metadata": {},
   "source": [
    "## Adapter Pattern"
   ]
  },
  {
   "cell_type": "markdown",
   "metadata": {},
   "source": [
    "If you have an object that doesn't fit your system template, then you will write a layer to adapt it (Something like you are using sqlalchemy as an ORM and you want to fit the db_manager object in your template of design)\n",
    "\n",
    "**Use When:** \n",
    "- When there is a framework that you want to adapt in your design.\n",
    "- When there are multiple interfaces (modules) and you want to unify the way to interact with them.\n",
    "\n",
    "**Real-life example:**\n",
    "- RTSP to MQTT converter\n",
    "- When you want to use a Pytorch model in a Tensorflow training loop \n",
    "\n",
    "**Avoid if:**\n",
    "- Rewriting the old interface is easier"
   ]
  },
  {
   "cell_type": "code",
   "execution_count": 1,
   "metadata": {},
   "outputs": [
    {
     "name": "stdout",
     "output_type": "stream",
     "text": [
      "Printed using legacy printer\n"
     ]
    }
   ],
   "source": [
    "class LegacyPrinter:\n",
    "    def old_print(self):\n",
    "        return \"Printed using legacy printer\"\n",
    "\n",
    "class ModernPrinterAdapter:\n",
    "    def __init__(self, legacy_printer):\n",
    "        self.legacy_printer = legacy_printer\n",
    "\n",
    "    def print(self):\n",
    "        return self.legacy_printer.old_print()\n",
    "\n",
    "# Usage\n",
    "legacy = LegacyPrinter()\n",
    "adapter = ModernPrinterAdapter(legacy)\n",
    "print(adapter.print())"
   ]
  },
  {
   "cell_type": "markdown",
   "metadata": {},
   "source": [
    "## Bridge Pattern"
   ]
  },
  {
   "cell_type": "markdown",
   "metadata": {},
   "source": [
    "You usually make multiple layers of abstraction to be easier to expand and interchange then you crete bridges between the application and the abstract (Something like you create a Box class then you create a Person class and Car class from the Box)\n",
    "\n",
    "**Use When:** \n",
    "- There are multiple implementaions for the abstraction\n",
    "\n",
    "**Real-life example:**\n",
    "- Notification system that uses different types (email, SMS, ..)\n",
    "\n",
    "**Avoid if:**\n",
    "- The implementation (EmailNotification or SMSNotification) is very similar to the abstraction (Notification) then there will be no need for it."
   ]
  },
  {
   "cell_type": "code",
   "execution_count": 2,
   "metadata": {},
   "outputs": [
    {
     "name": "stdout",
     "output_type": "stream",
     "text": [
      "Email: System down\n"
     ]
    }
   ],
   "source": [
    "class NotificationSender:\n",
    "    def send(self, message): pass\n",
    "\n",
    "class EmailSender(NotificationSender):\n",
    "    def send(self, message): return f\"Email: {message}\"\n",
    "\n",
    "class SMSSender(NotificationSender):\n",
    "    def send(self, message): return f\"SMS: {message}\"\n",
    "\n",
    "class Notification:\n",
    "    def __init__(self, sender: NotificationSender):\n",
    "        self.sender = sender\n",
    "\n",
    "    def notify(self, msg):\n",
    "        return self.sender.send(msg)\n",
    "\n",
    "# Usage\n",
    "email_notification = Notification(EmailSender())\n",
    "print(email_notification.notify(\"System down\")) \n"
   ]
  },
  {
   "cell_type": "markdown",
   "metadata": {},
   "source": [
    "## Composite Pattern"
   ]
  },
  {
   "cell_type": "markdown",
   "metadata": {},
   "source": [
    "You usually use it when you have an item and a set of items and you want to deal with them in the same way (something like a Box and Polygon or File and Folder) and you simply want to have the same interface (ofcourse with different expected outputs)\n",
    "\n",
    "**Use When:** \n",
    "- You need a tree structure (files/folders) \n",
    "\n",
    "**Real-life example:**\n",
    "- File system, XML/HTML DOM trees\n",
    "\n",
    "**Avoid if:**\n",
    "- the data is flat and simple"
   ]
  },
  {
   "cell_type": "code",
   "execution_count": 4,
   "metadata": {},
   "outputs": [
    {
     "name": "stdout",
     "output_type": "stream",
     "text": [
      "Documents/resume.pdf, report.docx\n",
      "resume.pdf\n"
     ]
    }
   ],
   "source": [
    "class FileSystemItem:\n",
    "    def display(self): pass\n",
    "\n",
    "class File(FileSystemItem):\n",
    "    def __init__(self, name): self.name = name\n",
    "    def display(self): return self.name\n",
    "\n",
    "class Folder(FileSystemItem):\n",
    "    def __init__(self, name):\n",
    "        self.name = name\n",
    "        self.children = []\n",
    "    def add(self, item): self.children.append(item)\n",
    "    def display(self):\n",
    "        return self.name + \"/\" + \", \".join(child.display() for child in self.children)\n",
    "\n",
    "# Usage\n",
    "file1 = File(\"resume.pdf\")\n",
    "file2 = File(\"report.docx\")\n",
    "folder = Folder(\"Documents\")\n",
    "folder.add(file1)\n",
    "folder.add(file2)\n",
    "print(folder.display()) \n",
    "print(file1.display())\n"
   ]
  },
  {
   "cell_type": "markdown",
   "metadata": {},
   "source": [
    "## Decorator Pattern"
   ]
  },
  {
   "cell_type": "markdown",
   "metadata": {},
   "source": [
    "You use this pattern to add a new behaviors to the object during the runtime.\n",
    "\n",
    "**Use When:** \n",
    "- You need to attach an extra responsibility flexibly\n",
    "\n",
    "**Real-life example:**\n",
    "- Middleware, file stream wrappers.\n",
    "\n",
    "**Avoid if:**\n",
    "- Behavior combinations are simple — subclassing may suffice."
   ]
  },
  {
   "cell_type": "code",
   "execution_count": 5,
   "metadata": {},
   "outputs": [
    {
     "name": "stdout",
     "output_type": "stream",
     "text": [
      "Compressed(Encrypted(Data))\n"
     ]
    }
   ],
   "source": [
    "class DataSource:\n",
    "    def read(self): return \"Data\"\n",
    "\n",
    "class EncryptionDecorator(DataSource):\n",
    "    def __init__(self, source): self.source = source\n",
    "    def read(self): return \"Encrypted(\" + self.source.read() + \")\"\n",
    "\n",
    "class CompressionDecorator(DataSource):\n",
    "    def __init__(self, source): self.source = source\n",
    "    def read(self): return \"Compressed(\" + self.source.read() + \")\"\n",
    "\n",
    "# Usage\n",
    "source = DataSource()\n",
    "decorated = CompressionDecorator(EncryptionDecorator(source))\n",
    "print(decorated.read())\n"
   ]
  },
  {
   "cell_type": "markdown",
   "metadata": {},
   "source": [
    "## Facade Pattern"
   ]
  },
  {
   "cell_type": "markdown",
   "metadata": {},
   "source": [
    "Usually used as a high level interface to use other modules to handle complex requests (something like requesting asking a question from a RAG model, where you do embedding, then retrival, then inference, the CoT, then decoding)\n",
    "\n",
    "**Use When:** \n",
    "- You want to simplify interactions with a complex system.\n",
    "\n",
    "**Real-life example:**\n",
    "- Web APIs, UI libraries exposing simpler controls.\n",
    "\n",
    "**Avoid if:**\n",
    "- The subsystem is already simple."
   ]
  },
  {
   "cell_type": "code",
   "execution_count": 6,
   "metadata": {},
   "outputs": [
    {
     "name": "stdout",
     "output_type": "stream",
     "text": [
      "['User authenticated', 'Data fetched', 'Logged activity']\n"
     ]
    }
   ],
   "source": [
    "class AuthService:\n",
    "    def authenticate(self): return \"User authenticated\"\n",
    "\n",
    "class Database:\n",
    "    def query(self): return \"Data fetched\"\n",
    "\n",
    "class Logger:\n",
    "    def log(self): return \"Logged activity\"\n",
    "\n",
    "class SystemFacade:\n",
    "    def handle_request(self):\n",
    "        return [\n",
    "            AuthService().authenticate(),\n",
    "            Database().query(),\n",
    "            Logger().log()\n",
    "        ]\n",
    "\n",
    "# Usage\n",
    "facade = SystemFacade()\n",
    "print(facade.handle_request())  # ['User authenticated', 'Data fetched', 'Logged activity']"
   ]
  },
  {
   "cell_type": "markdown",
   "metadata": {},
   "source": [
    "## Flyweight Pattern"
   ]
  },
  {
   "cell_type": "markdown",
   "metadata": {},
   "source": [
    "Usually used when you want to save memory by simply using the same parts in an object if it's not going to be changed.\n",
    "\n",
    "**Use When:** \n",
    "- You create lots of similar objects (e.g., 100,000 map markers).\n",
    "\n",
    "**Real-life example:**\n",
    "- Text editor character formatting, icons in games.\n",
    "\n",
    "**Avoid if:**\n",
    "- Objects have unique, non-shareable state."
   ]
  },
  {
   "cell_type": "code",
   "execution_count": 7,
   "metadata": {},
   "outputs": [
    {
     "name": "stdout",
     "output_type": "stream",
     "text": [
      "True\n"
     ]
    }
   ],
   "source": [
    "class Icon:\n",
    "    _icons = {}\n",
    "\n",
    "    def __new__(cls, icon_type):\n",
    "        if icon_type not in cls._icons:\n",
    "            cls._icons[icon_type] = super().__new__(cls)\n",
    "            cls._icons[icon_type].type = icon_type\n",
    "        return cls._icons[icon_type]\n",
    "\n",
    "    def render(self): return f\"Rendering {self.type} icon\"\n",
    "\n",
    "# Usage\n",
    "a = Icon(\"folder\")\n",
    "b = Icon(\"folder\")\n",
    "print(a is b)  # True\n"
   ]
  },
  {
   "cell_type": "markdown",
   "metadata": {},
   "source": [
    "## Proxy Pattern"
   ]
  },
  {
   "cell_type": "markdown",
   "metadata": {},
   "source": [
    "Usually used by adding an extra layer of security before using specific functionality of the object.\n",
    "\n",
    "**Use When:** \n",
    "- You need lazy loading, security, or logging.\n",
    "\n",
    "**Real-life example:**\n",
    "- Database proxy, internet firewall, virtual file loader.\n",
    "\n",
    "**Avoid if:**\n",
    "- Direct access has no downside."
   ]
  },
  {
   "cell_type": "code",
   "execution_count": 8,
   "metadata": {},
   "outputs": [
    {
     "name": "stdout",
     "output_type": "stream",
     "text": [
      "Access denied\n"
     ]
    }
   ],
   "source": [
    "class RealService:\n",
    "    def request(self): return \"Data from real service\"\n",
    "\n",
    "class SecureProxy:\n",
    "    def __init__(self, user):\n",
    "        self.user = user\n",
    "        self.real = RealService()\n",
    "\n",
    "    def request(self):\n",
    "        if self.user != \"admin\":\n",
    "            return \"Access denied\"\n",
    "        return self.real.request()\n",
    "\n",
    "# Usage\n",
    "proxy = SecureProxy(\"guest\")\n",
    "print(proxy.request())  # Access denied\n"
   ]
  }
 ],
 "metadata": {
  "kernelspec": {
   "display_name": "base",
   "language": "python",
   "name": "python3"
  },
  "language_info": {
   "codemirror_mode": {
    "name": "ipython",
    "version": 3
   },
   "file_extension": ".py",
   "mimetype": "text/x-python",
   "name": "python",
   "nbconvert_exporter": "python",
   "pygments_lexer": "ipython3",
   "version": "3.10.8"
  }
 },
 "nbformat": 4,
 "nbformat_minor": 2
}
